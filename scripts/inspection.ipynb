{
 "cells": [
  {
   "attachments": {},
   "cell_type": "markdown",
   "metadata": {},
   "source": [
    "# Data Inspection"
   ]
  },
  {
   "cell_type": "code",
   "execution_count": 1,
   "metadata": {},
   "outputs": [],
   "source": [
    "import pandas as pd \n",
    "import numpy as np"
   ]
  },
  {
   "cell_type": "code",
   "execution_count": 4,
   "metadata": {},
   "outputs": [
    {
     "name": "stdout",
     "output_type": "stream",
     "text": [
      "  category                scientific_name  \\\n",
      "0   Mammal  Clethrionomys gapperi gapperi   \n",
      "1   Mammal                      Bos bison   \n",
      "2   Mammal                     Bos taurus   \n",
      "3   Mammal                     Ovis aries   \n",
      "4   Mammal                 Cervus elaphus   \n",
      "\n",
      "                                        common_names conservation_status  \n",
      "0                           Gapper's Red-Backed Vole                 NaN  \n",
      "1                              American Bison, Bison                 NaN  \n",
      "2  Aurochs, Aurochs, Domestic Cattle (Feral), Dom...                 NaN  \n",
      "3  Domestic Sheep, Mouflon, Red Sheep, Sheep (Feral)                 NaN  \n",
      "4                                      Wapiti Or Elk                 NaN  \n",
      "(5824, 4)\n",
      "category               object\n",
      "scientific_name        object\n",
      "common_names           object\n",
      "conservation_status    object\n",
      "dtype: object\n",
      "category                  0\n",
      "scientific_name           0\n",
      "common_names              0\n",
      "conservation_status    5633\n",
      "dtype: int64\n"
     ]
    }
   ],
   "source": [
    "# read in species_info data\n",
    "species = pd.read_csv('../data/species_info.csv')\n",
    "\n",
    "# check the first 5 rows of the dataframe\n",
    "print(species.head())\n",
    "\n",
    "# check the shape of the dataframe\n",
    "print(species.shape)\n"
   ]
  },
  {
   "cell_type": "code",
   "execution_count": 15,
   "metadata": {},
   "outputs": [
    {
     "name": "stdout",
     "output_type": "stream",
     "text": [
      "category               object\n",
      "scientific_name        object\n",
      "common_names           object\n",
      "conservation_status    object\n",
      "dtype: object\n",
      "category                  0\n",
      "scientific_name           0\n",
      "common_names              0\n",
      "conservation_status    5633\n",
      "dtype: int64\n"
     ]
    }
   ],
   "source": [
    "# check the data types of the columns\n",
    "print(species.dtypes)\n",
    "\n",
    "# check if there are any missing values in the dataframe\n",
    "print(species.isnull().sum())"
   ]
  },
  {
   "cell_type": "code",
   "execution_count": 10,
   "metadata": {},
   "outputs": [
    {
     "name": "stdout",
     "output_type": "stream",
     "text": [
      "7\n",
      "5541\n",
      "5504\n",
      "4\n"
     ]
    }
   ],
   "source": [
    "# check number of unique values in the category column\n",
    "print(species['category'].nunique())\n",
    "\n",
    "# check number of unique values in the scientific_name column\n",
    "print(species['scientific_name'].nunique())\n",
    "\n",
    "# check number of unique values in the common_names column\n",
    "print(species['common_names'].nunique())\n",
    "\n",
    "# check number of unique values in the conservation_status column\n",
    "print(species['conservation_status'].nunique())\n"
   ]
  },
  {
   "cell_type": "code",
   "execution_count": 14,
   "metadata": {},
   "outputs": [
    {
     "name": "stdout",
     "output_type": "stream",
     "text": [
      "Unique values in the dataset:\n",
      "category:\n",
      "category\n",
      "Vascular Plant       4470\n",
      "Bird                  521\n",
      "Nonvascular Plant     333\n",
      "Mammal                214\n",
      "Fish                  127\n",
      "Amphibian              80\n",
      "Reptile                79\n",
      "Name: count, dtype: int64\n",
      "scientific_name:\n",
      "scientific_name\n",
      "Castor canadensis            3\n",
      "Canis lupus                  3\n",
      "Hypochaeris radicata         3\n",
      "Columba livia                3\n",
      "Puma concolor                3\n",
      "                            ..\n",
      "Carex                        1\n",
      "Hexastylis shuttleworthii    1\n",
      "Hexastylis heterophylla      1\n",
      "Hexastylis arifolia          1\n",
      "Tribulus terrestris          1\n",
      "Name: count, Length: 5541, dtype: int64\n",
      "common_names:\n",
      "common_names\n",
      "Brachythecium Moss                                                            7\n",
      "Dicranum Moss                                                                 7\n",
      "Panic Grass                                                                   6\n",
      "Bryum Moss                                                                    6\n",
      "Sphagnum                                                                      6\n",
      "                                                                             ..\n",
      "Pine                                                                          1\n",
      "Red Spruce                                                                    1\n",
      "Norway Spruce                                                                 1\n",
      "Fraser Fir                                                                    1\n",
      "Bullhead, Caltrop, Goathead, Mexican Sandbur, Puncture Vine, Texas Sandbur    1\n",
      "Name: count, Length: 5504, dtype: int64\n",
      "conservation_status:\n",
      "conservation_status\n",
      "Species of Concern    161\n",
      "Endangered             16\n",
      "Threatened             10\n",
      "In Recovery             4\n",
      "Name: count, dtype: int64\n"
     ]
    }
   ],
   "source": [
    "# show the unique values in the dataset\n",
    "print(\"Unique values in the dataset:\")\n",
    "print('category:')\n",
    "print(species.category.value_counts())\n",
    "print('scientific_name:')\n",
    "print(species.scientific_name.value_counts())\n",
    "print('common_names:')\n",
    "print(species.common_names.value_counts())\n",
    "print('conservation_status:')\n",
    "print(species.conservation_status.value_counts())\n"
   ]
  },
  {
   "cell_type": "code",
   "execution_count": 3,
   "metadata": {},
   "outputs": [
    {
     "name": "stdout",
     "output_type": "stream",
     "text": [
      "            scientific_name                            park_name  observations\n",
      "0        Vicia benghalensis  Great Smoky Mountains National Park            68\n",
      "1            Neovison vison  Great Smoky Mountains National Park            77\n",
      "2         Prunus subcordata               Yosemite National Park           138\n",
      "3      Abutilon theophrasti                  Bryce National Park            84\n",
      "4  Githopsis specularioides  Great Smoky Mountains National Park            85\n",
      "(23296, 3)\n",
      "scientific_name    object\n",
      "park_name          object\n",
      "observations        int64\n",
      "dtype: object\n",
      "scientific_name    0\n",
      "park_name          0\n",
      "observations       0\n",
      "dtype: int64\n"
     ]
    }
   ],
   "source": [
    "# read in the data\n",
    "data = pd.read_csv('../data/observations.csv')\n",
    "\n",
    "# check the first 5 rows of the dataframe\n",
    "print(data.head())\n",
    "\n",
    "# check the shape of the dataframe\n",
    "print(data.shape)"
   ]
  },
  {
   "cell_type": "code",
   "execution_count": 16,
   "metadata": {},
   "outputs": [
    {
     "name": "stdout",
     "output_type": "stream",
     "text": [
      "scientific_name    object\n",
      "park_name          object\n",
      "observations        int64\n",
      "dtype: object\n",
      "scientific_name    0\n",
      "park_name          0\n",
      "observations       0\n",
      "dtype: int64\n"
     ]
    }
   ],
   "source": [
    "# check the data types of the columns\n",
    "print(data.dtypes)\n",
    "\n",
    "# check if there are any missing values in the dataframe\n",
    "print(data.isnull().sum())"
   ]
  },
  {
   "cell_type": "code",
   "execution_count": 17,
   "metadata": {},
   "outputs": [
    {
     "name": "stdout",
     "output_type": "stream",
     "text": [
      "304\n",
      "5541\n",
      "4\n"
     ]
    }
   ],
   "source": [
    "\n",
    "# check the number of unique values in the observations column\n",
    "print(data['observations'].nunique())\n",
    "\n",
    "# check the number of unique values in the scientific_name column\n",
    "print(data['scientific_name'].nunique())\n",
    "\n",
    "# check the number of unique values in the park_names column\n",
    "print(data['park_name'].nunique())\n"
   ]
  },
  {
   "cell_type": "code",
   "execution_count": 18,
   "metadata": {},
   "outputs": [
    {
     "name": "stdout",
     "output_type": "stream",
     "text": [
      "observations\n",
      "84     220\n",
      "85     210\n",
      "91     206\n",
      "92     203\n",
      "95     202\n",
      "      ... \n",
      "9        1\n",
      "321      1\n",
      "303      1\n",
      "314      1\n",
      "310      1\n",
      "Name: count, Length: 304, dtype: int64\n",
      "scientific_name\n",
      "Myotis lucifugus                        12\n",
      "Puma concolor                           12\n",
      "Hypochaeris radicata                    12\n",
      "Holcus lanatus                          12\n",
      "Streptopelia decaocto                   12\n",
      "                                        ..\n",
      "Packera dimorphophylla var. paysonii     4\n",
      "Smilax bona-nox                          4\n",
      "Chondestes grammacus                     4\n",
      "Leymus triticoides                       4\n",
      "Dichanthelium depauperatum               4\n",
      "Name: count, Length: 5541, dtype: int64\n",
      "park_name\n",
      "Great Smoky Mountains National Park    5824\n",
      "Yosemite National Park                 5824\n",
      "Bryce National Park                    5824\n",
      "Yellowstone National Park              5824\n",
      "Name: count, dtype: int64\n"
     ]
    }
   ],
   "source": [
    "# check the number of unique values in the observations column\n",
    "print(data['observations'].value_counts())\n",
    "\n",
    "# check the number of unique values in the scientific_name column\n",
    "print(data['scientific_name'].value_counts())\n",
    "\n",
    "# check the number of unique values in the park_names column\n",
    "print(data['park_name'].value_counts())"
   ]
  },
  {
   "cell_type": "code",
   "execution_count": null,
   "metadata": {},
   "outputs": [],
   "source": []
  }
 ],
 "metadata": {
  "kernelspec": {
   "display_name": "venv",
   "language": "python",
   "name": "python3"
  },
  "language_info": {
   "codemirror_mode": {
    "name": "ipython",
    "version": 3
   },
   "file_extension": ".py",
   "mimetype": "text/x-python",
   "name": "python",
   "nbconvert_exporter": "python",
   "pygments_lexer": "ipython3",
   "version": "3.10.11"
  },
  "orig_nbformat": 4
 },
 "nbformat": 4,
 "nbformat_minor": 2
}
